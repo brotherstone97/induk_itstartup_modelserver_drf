{
 "cells": [
  {
   "cell_type": "code",
   "execution_count": 12,
   "id": "b8a0fd63-3df7-4ccb-aaa1-bf2eab4df3b5",
   "metadata": {},
   "outputs": [],
   "source": [
    "import joblib\n",
    "import pandas as pd\n",
    "import numpy as np"
   ]
  },
  {
   "cell_type": "code",
   "execution_count": 8,
   "id": "bb77c031-b934-4dd8-8515-3e6b7b018022",
   "metadata": {},
   "outputs": [],
   "source": [
    "loaded_model = joblib.load('../models/model.pkl')"
   ]
  },
  {
   "cell_type": "code",
   "execution_count": 19,
   "id": "01ddbe74-39ab-4ac8-a394-ad0f9bb908d5",
   "metadata": {},
   "outputs": [
    {
     "data": {
      "text/html": [
       "<div>\n",
       "<style scoped>\n",
       "    .dataframe tbody tr th:only-of-type {\n",
       "        vertical-align: middle;\n",
       "    }\n",
       "\n",
       "    .dataframe tbody tr th {\n",
       "        vertical-align: top;\n",
       "    }\n",
       "\n",
       "    .dataframe thead th {\n",
       "        text-align: right;\n",
       "    }\n",
       "</style>\n",
       "<table border=\"1\" class=\"dataframe\">\n",
       "  <thead>\n",
       "    <tr style=\"text-align: right;\">\n",
       "      <th></th>\n",
       "      <th>sky_condition</th>\n",
       "      <th>precipitation_form</th>\n",
       "      <th>wind_speed</th>\n",
       "      <th>humidity</th>\n",
       "      <th>low_temp</th>\n",
       "      <th>high_temp</th>\n",
       "      <th>Precipitation_Probability</th>\n",
       "      <th>year</th>\n",
       "      <th>month</th>\n",
       "      <th>day</th>\n",
       "      <th>PM10</th>\n",
       "      <th>PM2.5</th>\n",
       "      <th>weekday</th>\n",
       "      <th>temp_gap</th>\n",
       "    </tr>\n",
       "  </thead>\n",
       "  <tbody>\n",
       "    <tr>\n",
       "      <th>0</th>\n",
       "      <td>3.8</td>\n",
       "      <td>0.0</td>\n",
       "      <td>3.276</td>\n",
       "      <td>15.0</td>\n",
       "      <td>12.812</td>\n",
       "      <td>21.0</td>\n",
       "      <td>10.0</td>\n",
       "      <td>2021.0</td>\n",
       "      <td>6.0</td>\n",
       "      <td>1.0</td>\n",
       "      <td>71.45</td>\n",
       "      <td>21.04</td>\n",
       "      <td>2</td>\n",
       "      <td>8.188</td>\n",
       "    </tr>\n",
       "  </tbody>\n",
       "</table>\n",
       "</div>"
      ],
      "text/plain": [
       "   sky_condition  precipitation_form  wind_speed  humidity  low_temp  \\\n",
       "0            3.8                 0.0       3.276      15.0    12.812   \n",
       "\n",
       "   high_temp  Precipitation_Probability    year  month  day   PM10  PM2.5  \\\n",
       "0       21.0                       10.0  2021.0    6.0  1.0  71.45  21.04   \n",
       "\n",
       "   weekday  temp_gap  \n",
       "0        2     8.188  "
      ]
     },
     "execution_count": 19,
     "metadata": {},
     "output_type": "execute_result"
    }
   ],
   "source": [
    "#user의 input을 가정한 더미 데이터\n",
    "data = {\"sky_condition\":3.800, \n",
    "        \"precipitation_form\":0.000, \"wind_speed\":3.276,\n",
    "        \"humidity\":15.000,\"low_temp\":12.812, \"high_temp\":21.000, \n",
    "        \"Precipitation_Probability\":10.000,\"year\":2021.0,\n",
    "        \"month\":6.0, \"day\":1.0, \"PM10\":71.45,\"PM2.5\":21.04,\n",
    "       \"weekday\":2}\n",
    "data['temp_gap'] = data['high_temp'] - data['low_temp']\n",
    "_input = pd.DataFrame(data,index=np.arange(1))\n",
    "\n",
    "_input"
   ]
  },
  {
   "cell_type": "code",
   "execution_count": null,
   "id": "1dcc7b25-6b99-4046-9112-a519efe4fb5d",
   "metadata": {},
   "outputs": [],
   "source": [
    "def predict_rental(weather, PM):\n",
    "    "
   ]
  },
  {
   "cell_type": "code",
   "execution_count": 18,
   "id": "ab32a1d1-a11c-4f68-81ec-34450131e10c",
   "metadata": {},
   "outputs": [
    {
     "data": {
      "text/plain": [
       "array([53038.24], dtype=float32)"
      ]
     },
     "execution_count": 18,
     "metadata": {},
     "output_type": "execute_result"
    }
   ],
   "source": [
    "#input값에 대한 최종 대여량 예측값\n",
    "loaded_model.predict(_input)"
   ]
  }
 ],
 "metadata": {
  "kernelspec": {
   "display_name": "it_project",
   "language": "python",
   "name": "it_project"
  },
  "language_info": {
   "codemirror_mode": {
    "name": "ipython",
    "version": 3
   },
   "file_extension": ".py",
   "mimetype": "text/x-python",
   "name": "python",
   "nbconvert_exporter": "python",
   "pygments_lexer": "ipython3",
   "version": "3.7.11"
  }
 },
 "nbformat": 4,
 "nbformat_minor": 5
}